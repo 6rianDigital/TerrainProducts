{
 "cells": [
  {
   "cell_type": "markdown",
   "metadata": {},
   "source": [
    "# Halifax Regional Municipality - Terrain Products for Fire Hazard Mapping"
   ]
  },
  {
   "cell_type": "markdown",
   "metadata": {},
   "source": [
    "### Import python modules"
   ]
  },
  {
   "cell_type": "code",
   "execution_count": null,
   "metadata": {},
   "outputs": [],
   "source": [
    "import ee\n",
    "import sys\n",
    "import os\n",
    "import geemap"
   ]
  },
  {
   "cell_type": "markdown",
   "metadata": {},
   "source": [
    "### Authenticate and Initialize Google Earth Engine and geemap"
   ]
  },
  {
   "cell_type": "code",
   "execution_count": null,
   "metadata": {},
   "outputs": [],
   "source": [
    "#ee.Authenticate()\n",
    "ee.Initialize(project='bgcloud87')\n",
    "geemap.ee_initialize()"
   ]
  },
  {
   "cell_type": "markdown",
   "metadata": {},
   "source": [
    "### Create Map Object"
   ]
  },
  {
   "cell_type": "code",
   "execution_count": null,
   "metadata": {},
   "outputs": [],
   "source": [
    "map = geemap.Map()"
   ]
  },
  {
   "cell_type": "markdown",
   "metadata": {},
   "source": [
    "### Load administrative boundaries dataset"
   ]
  },
  {
   "cell_type": "code",
   "execution_count": null,
   "metadata": {},
   "outputs": [],
   "source": [
    "dataset = ee.FeatureCollection(\"FAO/GAUL/2015/level2\")"
   ]
  },
  {
   "cell_type": "markdown",
   "metadata": {},
   "source": [
    "### Investigate the dataset so you know what values to work with"
   ]
  },
  {
   "cell_type": "code",
   "execution_count": null,
   "metadata": {},
   "outputs": [],
   "source": [
    "# Get the first feature in the dataset\n",
    "first_feature = dataset.first()\n",
    "\n",
    "# Get the properties (field names)\n",
    "field_names = first_feature.propertyNames().getInfo()\n",
    "print(field_names)\n"
   ]
  },
  {
   "cell_type": "code",
   "execution_count": null,
   "metadata": {},
   "outputs": [],
   "source": [
    "# Get a list of unique Province level values (ADM1 in this case)\n",
    "adm1_names = dataset.aggregate_array('ADM1_NAME').getInfo()\n",
    "print(set(adm1_names))  # Convert to set to remove duplicates\n"
   ]
  },
  {
   "cell_type": "code",
   "execution_count": null,
   "metadata": {},
   "outputs": [],
   "source": [
    "# Get a list of unique County level values (ADM2_NAME in this case)\n",
    "adm2_names = dataset.aggregate_array('ADM2_NAME').getInfo()\n",
    "print(set(adm2_names))  # Convert to set to remove duplicates"
   ]
  },
  {
   "cell_type": "markdown",
   "metadata": {},
   "source": [
    "### Filter for your area of inteterest (HRM)"
   ]
  },
  {
   "cell_type": "code",
   "execution_count": null,
   "metadata": {},
   "outputs": [],
   "source": [
    "# Filter for Nova Scotia\n",
    "ns = dataset.filter(ee.Filter.eq('ADM1_NAME', 'Nova Scotia / Nouvelle-Écosse'))\n",
    "\n",
    "print(ns.size().getInfo())"
   ]
  },
  {
   "cell_type": "code",
   "execution_count": null,
   "metadata": {},
   "outputs": [],
   "source": [
    "# Filter for Halifax, Nova Scotia\n",
    "hali = ns.filter(\n",
    "    ee.Filter.eq('ADM2_NAME', 'Halifax')\n",
    ")\n",
    "\n",
    "# Check the size of the filtered collection\n",
    "print(hali.size().getInfo())"
   ]
  },
  {
   "cell_type": "code",
   "execution_count": null,
   "metadata": {},
   "outputs": [],
   "source": [
    "# Add to map\n",
    "map.addLayer(hali.geometry(), {'color': 'red'}, \"HRM Boundary\")\n",
    "map.setCenter(-63.106018, 44.871443, 7)\n",
    "\n",
    "map\n",
    "\n"
   ]
  },
  {
   "cell_type": "markdown",
   "metadata": {},
   "source": [
    "### Remove non-contiguous entities (Sable Island)"
   ]
  },
  {
   "cell_type": "code",
   "execution_count": null,
   "metadata": {
    "scrolled": false
   },
   "outputs": [],
   "source": [
    "# Define Sable Island's approximate boundary as a buffer around its coordinates\n",
    "sable_island = ee.Geometry.Point([-59.9061, 43.9336]).buffer(100000)  # 100km buffer\n",
    "\n",
    "# Get the geometry of Halifax\n",
    "hali_geom = hali.geometry()\n",
    "\n",
    "# Subtract Sable Island from Halifax's geometry\n",
    "hali_fixed_geom = hali_geom.difference(sable_island)\n",
    "\n",
    "# Convert back to a FeatureCollection\n",
    "hali_fixed = ee.FeatureCollection(ee.Feature(hali_fixed_geom))\n",
    "\n",
    "# Add to the map\n",
    "map.addLayer(hali_fixed, {'color': 'blue'}, \"HRM (Without Sable Island)\")\n",
    "map.setCenter(-63.106018, 44.871443, 8)\n",
    "map \n"
   ]
  },
  {
   "cell_type": "markdown",
   "metadata": {},
   "source": [
    "### Split the HRM into 4 equal sections based on longitude"
   ]
  },
  {
   "cell_type": "code",
   "execution_count": null,
   "metadata": {},
   "outputs": [],
   "source": [
    "# Get the bounds of the hali_fixed area\n",
    "hali_bounds = hali_fixed.bounds()\n",
    "\n",
    "# Print the bounds (coordinates of the bounding box)\n",
    "bounds = hali_bounds.getInfo()\n",
    "print(\"Bounds of hali_fixed:\", bounds)\n",
    "\n",
    "# Coordinates of the bounding box\n",
    "coordinates = bounds['coordinates'][0]\n",
    "\n",
    "# Extract all the longitudes and latitudes\n",
    "longitudes = [coord[0] for coord in coordinates]\n",
    "latitudes = [coord[1] for coord in coordinates]\n",
    "\n",
    "# Calculate the minimum and maximum longitudes and latitudes\n",
    "min_long = min(longitudes)\n",
    "max_long = max(longitudes)\n",
    "min_lat = min(latitudes)\n",
    "max_lat = max(latitudes)\n",
    "\n",
    "# Calculate the step size for splitting the longitude range into four equal sections\n",
    "step = (max_long - min_long) / 4\n",
    "\n",
    "# Define the three split longitudes (boundaries) to create four equal sections\n",
    "split_longitude_1 = min_long + step\n",
    "split_longitude_2 = min_long + 2 * step\n",
    "split_longitude_3 = min_long + 3 * step\n",
    "\n",
    "# Print the split longitudes\n",
    "print(\"Split Longitudes:\", split_longitude_1, split_longitude_2, split_longitude_3)\n",
    "\n",
    "# Define the four new polygons by cutting the original polygon at the three split longitudes\n",
    "# West region (1st section)\n",
    "west_region = ee.Geometry.Polygon([\n",
    "    [\n",
    "        [min_long, min_lat],                # Southwest corner\n",
    "        [split_longitude_1, min_lat],       # Southeast corner\n",
    "        [split_longitude_1, max_lat],       # Northeast corner\n",
    "        [min_long, max_lat],                # Northwest corner\n",
    "        [min_long, min_lat]                 # Closing back to Southwest corner\n",
    "    ]\n",
    "])\n",
    "\n",
    "# Centre-West region (2nd section)\n",
    "centre_west_region = ee.Geometry.Polygon([\n",
    "    [\n",
    "        [split_longitude_1, min_lat],       # Southwest corner\n",
    "        [split_longitude_2, min_lat],       # Southeast corner\n",
    "        [split_longitude_2, max_lat],       # Northeast corner\n",
    "        [split_longitude_1, max_lat],       # Northwest corner\n",
    "        [split_longitude_1, min_lat]        # Closing back to Southwest corner\n",
    "    ]\n",
    "])\n",
    "\n",
    "# Centre-East region (3rd section)\n",
    "centre_east_region = ee.Geometry.Polygon([\n",
    "    [\n",
    "        [split_longitude_2, min_lat],       # Southwest corner\n",
    "        [split_longitude_3, min_lat],       # Southeast corner\n",
    "        [split_longitude_3, max_lat],       # Northeast corner\n",
    "        [split_longitude_2, max_lat],       # Northwest corner\n",
    "        [split_longitude_2, min_lat]        # Closing back to Southwest corner\n",
    "    ]\n",
    "])\n",
    "\n",
    "# East region (4th section)\n",
    "east_region = ee.Geometry.Polygon([\n",
    "    [\n",
    "        [split_longitude_3, min_lat],       # Southwest corner\n",
    "        [max_long, min_lat],                # Southeast corner\n",
    "        [max_long, max_lat],                # Northeast corner\n",
    "        [split_longitude_3, max_lat],       # Northwest corner\n",
    "        [split_longitude_3, min_lat]        # Closing back to Southwest corner\n",
    "    ]\n",
    "])\n",
    "\n",
    "# Add the four regions to the map with new names\n",
    "map.addLayer(west_region, {'color': 'blue'}, 'West Region')\n",
    "map.addLayer(centre_west_region, {'color': 'red'}, 'Centre-West Region')\n",
    "map.addLayer(centre_east_region, {'color': 'green'}, 'Centre-East Region')\n",
    "map.addLayer(east_region, {'color': 'yellow'}, 'East Region')\n",
    "\n",
    "# Clip the regions by intersecting them with the HRM boundary\n",
    "west_clip = west_region.intersection(hali_fixed)\n",
    "centre_west_clip = centre_west_region.intersection(hali_fixed)\n",
    "centre_east_clip = centre_east_region.intersection(hali_fixed)\n",
    "east_clip = east_region.intersection(hali_fixed)\n",
    "\n",
    "# Add the clipped regions to the map\n",
    "map.addLayer(west_clip, {'color': 'blue'}, 'West Clipped')\n",
    "map.addLayer(centre_west_clip, {'color': 'red'}, 'Centre-West Clipped')\n",
    "map.addLayer(centre_east_clip, {'color': 'green'}, 'Centre-East Clipped')\n",
    "map.addLayer(east_clip, {'color': 'yellow'}, 'East Clipped')\n",
    "\n",
    "\n",
    "# Set the map center and zoom level\n",
    "map.centerObject(hali_fixed, 8)\n",
    "\n",
    "# Display the map\n",
    "map"
   ]
  },
  {
   "cell_type": "markdown",
   "metadata": {},
   "source": [
    "#### Pull Sentinel-2 Satellite imagery - Focus on \"Centre West\" clipped section"
   ]
  },
  {
   "cell_type": "code",
   "execution_count": null,
   "metadata": {
    "scrolled": false
   },
   "outputs": [],
   "source": [
    "# load Sentinel-2 image collection\n",
    "s2 = ee.ImageCollection('COPERNICUS/S2') \\\n",
    "    .filterBounds(centre_west_clip) \\\n",
    "    .filterDate('2024-06-01', '2024-10-31')\n",
    "\n",
    "# Load cloud probability dataset\n",
    "clouds = ee.ImageCollection('COPERNICUS/S2_CLOUD_PROBABILITY') \\\n",
    "    .filterBounds(centre_west_clip) \\\n",
    "    .filterDate('2024-06-01', '2024-10-31')\n",
    "\n",
    "# Function to mask clouds based on cloud probability (< 30%)\n",
    "def mask_clouds(image):\n",
    "    cloud_prob = clouds.filter(ee.Filter.equals('system:index', image.get('system:index'))).first().select('probability')\n",
    "    mask = cloud_prob.lt(30)  # Keep pixels with less than 30% cloud probability\n",
    "    return image.updateMask(mask)\n",
    "\n",
    "# Apply the cloud mask to the collection\n",
    "s2_clean = s2.map(mask_clouds)\n",
    "\n",
    "# reduce collection to a single image\n",
    "s2_filtered = s2_clean.median()\n",
    "\n",
    "# Clip the image to the boundary of hali_fixed\n",
    "s2_clipped = s2_filtered.clip(centre_west_clip)\n",
    "\n",
    "# Visualization parameters for RGB (Red, Green, Blue)\n",
    "vis_params = {\n",
    "    'min': 0,\n",
    "    'max': 3000,\n",
    "    'bands': ['B4', 'B3', 'B2']  # Red, Green, Blue bands\n",
    "}\n",
    "\n",
    "# Add the image to the map\n",
    "map.addLayer(s2_clipped, vis_params, 'CW Sentinel-2 Image (Clipped)')\n",
    "map"
   ]
  },
  {
   "cell_type": "markdown",
   "metadata": {},
   "source": [
    "### Terrain Retrieval & Visualization"
   ]
  },
  {
   "cell_type": "code",
   "execution_count": null,
   "metadata": {},
   "outputs": [],
   "source": [
    "# Retrieve and clip the SRTM DEM data\n",
    "srtm = ee.Image(\"USGS/SRTMGL1_003\")\n",
    "\n",
    "# Clip the DEM to the AOI\n",
    "cw_srtm_clip = srtm.clip(centre_west_clip)\n",
    "\n",
    "# Adjusted visualization parameters for DEM\n",
    "dem_vis_params = {\n",
    "    'min': 0,         # Minimum value for elevation (change if needed)\n",
    "    'max': 200,       # Maximum value for elevation (adjust based on expected range)\n",
    "    'palette': ['blue', 'green', 'yellow', 'red']  # Color gradient for visualization\n",
    "}\n",
    "\n",
    "# Add the DEM layer to the map\n",
    "map.centerObject(centre_west_clip, 10)\n",
    "map.addLayer(cw_srtm_clip, dem_vis_params, 'CW SRTM DEM')\n",
    "map\n",
    "\n"
   ]
  },
  {
   "cell_type": "code",
   "execution_count": null,
   "metadata": {
    "scrolled": false
   },
   "outputs": [],
   "source": [
    "# Load NASA DEM and clip to Centre-West\n",
    "nasa_dem = ee.Image(\"NASA/NASADEM_HGT/001\")\n",
    "cw_nasa_dem = nasa_dem.select('elevation').clip(centre_west_clip)\n",
    "\n",
    "# Compute min/max elevation dynamically\n",
    "stats = cw_nasa_dem.reduceRegion(\n",
    "    reducer=ee.Reducer.minMax(),\n",
    "    geometry=centre_west_clip,\n",
    "    scale=30,\n",
    "    bestEffort=True\n",
    ")\n",
    "min_elev = stats.get('elevation_min').getInfo()\n",
    "max_elev = stats.get('elevation_max').getInfo()\n",
    "\n",
    "# Visualization parameters with dynamic scaling\n",
    "dem_vis_params = {\n",
    "    'min': min_elev,\n",
    "    'max': max_elev,\n",
    "    'palette': ['blue', 'green', 'yellow', 'red']\n",
    "}\n",
    "\n",
    "\n",
    "# Center map and add layers\n",
    "map.centerObject(centre_west_clip, 10)\n",
    "map.addLayer(cw_nasa_dem, dem_vis_params, 'CW NASA DEM')\n",
    "\n",
    "map\n"
   ]
  },
  {
   "cell_type": "markdown",
   "metadata": {},
   "source": [
    "## Terrain Products & Hazard Layers"
   ]
  },
  {
   "cell_type": "markdown",
   "metadata": {},
   "source": [
    "### Hillshade"
   ]
  },
  {
   "cell_type": "code",
   "execution_count": null,
   "metadata": {
    "scrolled": false
   },
   "outputs": [],
   "source": [
    "# Compute and add hillshade for better terrain visualization\n",
    "hillshade = ee.Terrain.hillshade(cw_nasa_dem)\n",
    "\n",
    "map.centerObject(centre_west_clip, 9)\n",
    "map.addLayer(hillshade, {'min': 0, 'max': 255}, 'Hillshade')\n",
    "\n",
    "map"
   ]
  },
  {
   "cell_type": "markdown",
   "metadata": {},
   "source": [
    "### Slope"
   ]
  },
  {
   "cell_type": "code",
   "execution_count": null,
   "metadata": {
    "scrolled": false
   },
   "outputs": [],
   "source": [
    "# Create slope variable from DEM\n",
    "slope = ee.Terrain.slope(cw_nasa_dem)\n",
    "\n",
    "# Calculate Min/Max slope values (GEE default unit is degrees)\n",
    "slope_stats = slope.reduceRegion(\n",
    "    reducer=ee.Reducer.minMax(),\n",
    "    geometry=centre_west_clip,\n",
    "    scale=30,  # Adjust scale based on your DEM resolution\n",
    "    bestEffort=True\n",
    ")\n",
    "print(slope_stats.getInfo())  # Print slope min/max values for debugging\n",
    "\n",
    "def fire_hazard_slope(slope_image):\n",
    "    \"\"\"\n",
    "    Assigns fire hazard based on slope steepness:\n",
    "    - 0-5°: Very Low hazard\n",
    "    - 5-10°: Low hazard\n",
    "    - 10-25°: Medium hazard\n",
    "    - 25-31°: High hazard\n",
    "    - >31°: Very High hazard\n",
    "    \"\"\"\n",
    "    # Define the hazard levels\n",
    "    very_low_hazard = slope_image.lte(5).multiply(0)  # very low hazard for slopes <= 5 degrees\n",
    "    low_hazard = slope_image.gt(5).And(slope_image.lte(10)).multiply(1)  # Low hazard\n",
    "    medium_hazard = slope_image.gt(10).And(slope_image.lte(25)).multiply(2)  # Medium hazard\n",
    "    high_hazard = slope_image.gt(25).And(slope_image.lte(31)).multiply(3)  # High hazard\n",
    "    very_high_hazard = slope_image.gt(31).multiply(4)  # Very High hazard\n",
    "\n",
    "    # Combine all hazard levels into one image\n",
    "    fire_hazard_slope_map = very_low_hazard.add(low_hazard).add(medium_hazard).add(high_hazard).add(very_high_hazard)\n",
    "    \n",
    "    \n",
    "    return fire_hazard_slope_map\n",
    "\n",
    "# Apply the fire hazard function to the slope image\n",
    "fire_hazard_slope_map = fire_hazard_slope(slope)\n",
    "\n",
    "# Visualization of fire hazard (adjusted visualization based on new hazard values)\n",
    "fire_hazard_vis = {\n",
    "    'min': 0,\n",
    "    'max': 4,\n",
    "    'palette': ['blue', 'yellow', 'orange', 'red', '#8B0000'],  # Low -> High hazard colors\n",
    "}\n",
    "\n",
    "# Add the fire hazard layer to the map\n",
    "map.addLayer(fire_hazard_slope_map, fire_hazard_vis, \"Fire Hazard by Slope\")\n",
    "\n",
    "# Define the legend dictionary with keys (labels) and colors\n",
    "legend_dict = {\n",
    "    'Very Low Hazard (0-5°)': '#0000FF',  # Blue\n",
    "    'Low Hazard (5-10°)': '#FFFF00',  # Yellow\n",
    "    'Medium Hazard (10-25°)': '#FFA500',  # Orange\n",
    "    'High Hazard (25-31°)': '#FF0000',  # Red\n",
    "    'Very High Hazard (>31°)': '#8B0000'  # Dark Red\n",
    "}\n",
    "\n",
    "\n",
    "# Add the legend to the map\n",
    "map.add_legend(title=\"Fire Hazard by Slope\", legend_dict=legend_dict)\n",
    "\n",
    "# Center the map around the region\n",
    "map.centerObject(centre_west_clip, 9)\n",
    "\n",
    "map\n"
   ]
  },
  {
   "cell_type": "markdown",
   "metadata": {},
   "source": [
    "### Aspect"
   ]
  },
  {
   "cell_type": "code",
   "execution_count": null,
   "metadata": {},
   "outputs": [],
   "source": [
    "# Compute aspect from the DEM\n",
    "aspect = ee.Terrain.aspect(cw_nasa_dem)\n",
    "\n",
    "def fire_hazard_aspect(aspect_image):\n",
    "    \"\"\"\n",
    "    Assigns fire hazard based on aspect and degree range:\n",
    "    - South (135° - 225°): Extremely High Hazard\n",
    "    - North (315° - 45°): Low Hazard\n",
    "    - East (45° - 135°): Medium Hazard\n",
    "    - West (225° - 315°): High Hazard\n",
    "    \"\"\"\n",
    "    # Define aspect ranges for each cardinal direction\n",
    "    extremely_high_hazard = aspect_image.gt(135).And(aspect_image.lte(225)).multiply(4)  # Very High hazard (Dark Red)\n",
    "    low_hazard = (aspect_image.lt(45).Or(aspect_image.gt(315))).multiply(1)  # Low hazard (Yellow)\n",
    "    medium_hazard = aspect_image.gt(45).And(aspect_image.lte(135)).multiply(2)  # Medium hazard (Orange)\n",
    "    high_hazard = aspect_image.gt(225).And(aspect_image.lte(315)).multiply(3)  # High hazard (Red)\n",
    "\n",
    "\n",
    "    fire_hazard_map = low_hazard.add(medium_hazard).add(high_hazard).add(extremely_high_hazard)\n",
    "    \n",
    "    return fire_hazard_map\n",
    "\n",
    "# Apply the updated aspect fire hazard function\n",
    "fire_hazard_aspect_map = fire_hazard_aspect(aspect)\n",
    "\n",
    "# Visualization of fire hazard (from low to high hazard)\n",
    "fire_hazard_aspect_vis = {\n",
    "    'min': 1,\n",
    "    'max': 4,\n",
    "    'palette': ['#FFFF00', '#FFA500', '#FF0000', '#8B0000'],  # Low -> High hazard colors (Yellow, Orange, Red, Dark Red)\n",
    "}\n",
    "\n",
    "# Center the map and add the aspect layer\n",
    "map.centerObject(centre_west_clip, 9)\n",
    "map.addLayer(fire_hazard_aspect_map, fire_hazard_aspect_vis, 'Fire Hazard by Aspect')\n",
    "\n",
    "# Define the legend dictionary with keys (labels) and colors\n",
    "legend_dict = {\n",
    "    'Low Hazard (N, 315° - 45°)': '#FFFF00',  # Yellow\n",
    "    'Medium Hazard (E, 45° - 135°)': '#FFA500',  # Orange\n",
    "    'High Hazard (W, 225° - 315°)': '#FF0000',  # Red\n",
    "    'Extremely High Hazard (S, 135° - 225°)': '#8B0000',  # Dark Red\n",
    "}\n",
    "\n",
    "# Add the legend to the map\n",
    "map.add_legend(title=\"Fire Hazard by Aspect\", legend_dict=legend_dict)\n",
    "\n",
    "# Display the map\n",
    "map\n",
    "\n"
   ]
  },
  {
   "cell_type": "markdown",
   "metadata": {},
   "source": [
    "### Elevation"
   ]
  },
  {
   "cell_type": "code",
   "execution_count": null,
   "metadata": {
    "scrolled": false
   },
   "outputs": [],
   "source": [
    "# Load the DEM (cw_nasa_dem) for Nova Scotia\n",
    "elevation = cw_nasa_dem\n",
    "\n",
    "# Reclassify the elevation into fire hazard classes based on the ranges\n",
    "def elevation_fire_hazard(elevation_image):\n",
    "    \"\"\"\n",
    "    Classify the fire hazard based on elevation:\n",
    "    - 10-100 meters (Extremely High hazard - 5)\n",
    "    - 100-200 meters (High hazard - 4)\n",
    "    - 200-300 meters (Medium hazard - 3)\n",
    "    - 300-400 meters (Low hazard - 2)\n",
    "    - >400 meters (Extremely Low hazard - 1)\n",
    "    - 0 meters (No Data hazard - 0)\n",
    "    \"\"\"\n",
    "    # Define the classification for each range\n",
    "    extremely_high = elevation_image.gte(10).And(elevation_image.lt(100)).multiply(5)\n",
    "    high = elevation_image.gte(100).And(elevation_image.lt(200)).multiply(4)\n",
    "    medium = elevation_image.gte(200).And(elevation_image.lt(300)).multiply(3)\n",
    "    low = elevation_image.gte(300).And(elevation_image.lt(400)).multiply(2)\n",
    "    extremely_low = elevation_image.gte(400).multiply(1)\n",
    "\n",
    "    # Handle No Data areas or 0 elevation\n",
    "    no_data = elevation_image.eq(0).multiply(0)  # Assign 0 for No Data (0m elevation)\n",
    "\n",
    "    # Combine all the classes, including No Data\n",
    "    fire_hazard_map = extremely_high.add(high).add(medium).add(low).add(extremely_low).add(no_data)\n",
    "    \n",
    "    return fire_hazard_map\n",
    "\n",
    "# Apply the classification function\n",
    "elevation_fire_hazard_map = elevation_fire_hazard(elevation)\n",
    "\n",
    "# Visualization parameters for fire hazard (low to high hazard)\n",
    "elevation_fire_hazard_vis = {\n",
    "    'min': 0,  # Now including the No Data category\n",
    "    'max': 5,\n",
    "    'palette': ['#808080', '#0000FF', '#FFFF00', '#FFA500', '#FF4500', '#8B0000'],  # Added gray for No Data\n",
    "}\n",
    "\n",
    "# Center the map around Nova Scotia\n",
    "map.centerObject(cw_nasa_dem, 9)\n",
    "\n",
    "# Add the fire hazard layer to the map\n",
    "map.addLayer(elevation_fire_hazard_map, elevation_fire_hazard_vis, 'Fire Hazard based on Elevation')\n",
    "\n",
    "# Define the legend dictionary with keys (labels) and colors\n",
    "legend_dict = {\n",
    "    'No Data (0 meters)': '#808080',  # Gray for No Data areas (0 meters)\n",
    "    'Extremely Low Hazard (>400 meters)': '#0000FF',  # Blue\n",
    "    'Low Hazard (300-400 meters)': '#FFFF00',  # Yellow\n",
    "    'Medium Hazard (200-300 meters)': '#FFA500',  # Orange\n",
    "    'High Hazard (100-200 meters)': '#FF4500',  # Red-Orange\n",
    "    'Extremely High Hazard (10-100 meters)': '#8B0000',  # Dark Red\n",
    "}\n",
    "\n",
    "# Add the legend to the map\n",
    "map.add_legend(title=\"Fire Hazard by Elevation\", legend_dict=legend_dict)\n",
    "\n",
    "# Display the map\n",
    "map\n"
   ]
  },
  {
   "cell_type": "code",
   "execution_count": null,
   "metadata": {},
   "outputs": [],
   "source": []
  }
 ],
 "metadata": {
  "kernelspec": {
   "display_name": "ArcGISPro",
   "language": "Python",
   "name": "python3"
  },
  "language_info": {
   "file_extension": ".py",
   "name": "python",
   "version": "3"
  }
 },
 "nbformat": 4,
 "nbformat_minor": 2
}
